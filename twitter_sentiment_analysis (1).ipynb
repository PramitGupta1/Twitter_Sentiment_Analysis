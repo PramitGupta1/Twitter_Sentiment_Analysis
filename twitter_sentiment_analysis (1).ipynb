{
 "cells": [
  {
   "cell_type": "markdown",
   "id": "adf2b4dc",
   "metadata": {},
   "source": [
    "\n",
    "# Twitter Sentiment Analysis (Positive / Negative / Neutral)\n",
    "\n",
    "This notebook walks through building a sentiment analysis classifier using Twitter datasets.\n",
    "\n",
    "**Steps covered:**\n",
    "1. Load & inspect data  \n",
    "2. Clean text (lowercasing, remove URLs/mentions/hashtags/punctuation)  \n",
    "3. Focus on 3 classes: Positive / Negative / Neutral  \n",
    "4. Exploratory Data Analysis (EDA)  \n",
    "5. Vectorize text with TF-IDF  \n",
    "6. Train classifiers: MultinomialNB, Logistic Regression, Linear SVM  \n",
    "7. Evaluate with accuracy, precision, recall, F1, confusion matrix  \n",
    "8. Save best model & vectorizer  \n",
    "9. Test real-time predictions and batch scoring  \n"
   ]
  },
  {
   "cell_type": "markdown",
   "id": "1491bdee",
   "metadata": {},
   "source": [
    "## Step 1: Load Data"
   ]
  },
  {
   "cell_type": "code",
   "execution_count": 1,
   "id": "1646f75e",
   "metadata": {},
   "outputs": [
    {
     "name": "stdout",
     "output_type": "stream",
     "text": [
      "twitter_training.csv shape: (74682, 4)\n",
      "     id       entity sentiment  \\\n",
      "0  2401  Borderlands  Positive   \n",
      "1  2401  Borderlands  Positive   \n",
      "2  2401  Borderlands  Positive   \n",
      "3  2401  Borderlands  Positive   \n",
      "4  2401  Borderlands  Positive   \n",
      "\n",
      "                                                text  \n",
      "0  im getting on borderlands and i will murder yo...  \n",
      "1  I am coming to the borders and I will kill you...  \n",
      "2  im getting on borderlands and i will kill you ...  \n",
      "3  im coming on borderlands and i will murder you...  \n",
      "4  im getting on borderlands 2 and i will murder ...  \n",
      "Sentiment140 shape: (1600000, 6)\n",
      "   target          id                          date      flag  \\\n",
      "0       0  1467810369  Mon Apr 06 22:19:45 PDT 2009  NO_QUERY   \n",
      "1       0  1467810672  Mon Apr 06 22:19:49 PDT 2009  NO_QUERY   \n",
      "2       0  1467810917  Mon Apr 06 22:19:53 PDT 2009  NO_QUERY   \n",
      "3       0  1467811184  Mon Apr 06 22:19:57 PDT 2009  NO_QUERY   \n",
      "4       0  1467811193  Mon Apr 06 22:19:57 PDT 2009  NO_QUERY   \n",
      "\n",
      "              user                                               text  \n",
      "0  _TheSpecialOne_  @switchfoot http://twitpic.com/2y1zl - Awww, t...  \n",
      "1    scotthamilton  is upset that he can't update his Facebook by ...  \n",
      "2         mattycus  @Kenichan I dived many times for the ball. Man...  \n",
      "3          ElleCTF    my whole body feels itchy and like its on fire   \n",
      "4           Karoli  @nationwideclass no, it's not behaving at all....  \n"
     ]
    }
   ],
   "source": [
    "\n",
    "import pandas as pd\n",
    "\n",
    "# Twitter training data (has 4 cols: id, entity, sentiment, text)\n",
    "df1 = pd.read_csv(\"twitter_training.csv\", header=None, names=[\"id\",\"entity\",\"sentiment\",\"text\"])\n",
    "print(\"twitter_training.csv shape:\", df1.shape)\n",
    "print(df1.head())\n",
    "\n",
    "# Sentiment140 dataset (used as optional reference)\n",
    "df2 = pd.read_csv(\"training.1600000.processed.noemoticon.csv\", \n",
    "                  encoding=\"latin-1\", header=None,\n",
    "                  names=[\"target\",\"id\",\"date\",\"flag\",\"user\",\"text\"])\n",
    "print(\"Sentiment140 shape:\", df2.shape)\n",
    "print(df2.head())\n"
   ]
  },
  {
   "cell_type": "markdown",
   "id": "d0b715af",
   "metadata": {},
   "source": [
    "## Step 2: Preprocessing"
   ]
  },
  {
   "cell_type": "code",
   "execution_count": 3,
   "id": "83f1e1f1",
   "metadata": {},
   "outputs": [
    {
     "name": "stdout",
     "output_type": "stream",
     "text": [
      "Filtered shape: (55091, 5)\n",
      "sentiment\n",
      "Negative    20564\n",
      "Positive    18200\n",
      "Neutral     16327\n",
      "Name: count, dtype: int64\n"
     ]
    },
    {
     "data": {
      "text/html": [
       "<div>\n",
       "<style scoped>\n",
       "    .dataframe tbody tr th:only-of-type {\n",
       "        vertical-align: middle;\n",
       "    }\n",
       "\n",
       "    .dataframe tbody tr th {\n",
       "        vertical-align: top;\n",
       "    }\n",
       "\n",
       "    .dataframe thead th {\n",
       "        text-align: right;\n",
       "    }\n",
       "</style>\n",
       "<table border=\"1\" class=\"dataframe\">\n",
       "  <thead>\n",
       "    <tr style=\"text-align: right;\">\n",
       "      <th></th>\n",
       "      <th>id</th>\n",
       "      <th>entity</th>\n",
       "      <th>sentiment</th>\n",
       "      <th>text</th>\n",
       "      <th>clean_text</th>\n",
       "    </tr>\n",
       "  </thead>\n",
       "  <tbody>\n",
       "    <tr>\n",
       "      <th>0</th>\n",
       "      <td>2401</td>\n",
       "      <td>Borderlands</td>\n",
       "      <td>Positive</td>\n",
       "      <td>im getting on borderlands and i will murder yo...</td>\n",
       "      <td>im getting on borderlands and i will murder yo...</td>\n",
       "    </tr>\n",
       "    <tr>\n",
       "      <th>1</th>\n",
       "      <td>2401</td>\n",
       "      <td>Borderlands</td>\n",
       "      <td>Positive</td>\n",
       "      <td>I am coming to the borders and I will kill you...</td>\n",
       "      <td>i am coming to the borders and i will kill you...</td>\n",
       "    </tr>\n",
       "    <tr>\n",
       "      <th>2</th>\n",
       "      <td>2401</td>\n",
       "      <td>Borderlands</td>\n",
       "      <td>Positive</td>\n",
       "      <td>im getting on borderlands and i will kill you ...</td>\n",
       "      <td>im getting on borderlands and i will kill you all</td>\n",
       "    </tr>\n",
       "    <tr>\n",
       "      <th>3</th>\n",
       "      <td>2401</td>\n",
       "      <td>Borderlands</td>\n",
       "      <td>Positive</td>\n",
       "      <td>im coming on borderlands and i will murder you...</td>\n",
       "      <td>im coming on borderlands and i will murder you...</td>\n",
       "    </tr>\n",
       "    <tr>\n",
       "      <th>4</th>\n",
       "      <td>2401</td>\n",
       "      <td>Borderlands</td>\n",
       "      <td>Positive</td>\n",
       "      <td>im getting on borderlands 2 and i will murder ...</td>\n",
       "      <td>im getting on borderlands 2 and i will murder ...</td>\n",
       "    </tr>\n",
       "  </tbody>\n",
       "</table>\n",
       "</div>"
      ],
      "text/plain": [
       "     id       entity sentiment  \\\n",
       "0  2401  Borderlands  Positive   \n",
       "1  2401  Borderlands  Positive   \n",
       "2  2401  Borderlands  Positive   \n",
       "3  2401  Borderlands  Positive   \n",
       "4  2401  Borderlands  Positive   \n",
       "\n",
       "                                                text  \\\n",
       "0  im getting on borderlands and i will murder yo...   \n",
       "1  I am coming to the borders and I will kill you...   \n",
       "2  im getting on borderlands and i will kill you ...   \n",
       "3  im coming on borderlands and i will murder you...   \n",
       "4  im getting on borderlands 2 and i will murder ...   \n",
       "\n",
       "                                          clean_text  \n",
       "0  im getting on borderlands and i will murder yo...  \n",
       "1  i am coming to the borders and i will kill you...  \n",
       "2  im getting on borderlands and i will kill you all  \n",
       "3  im coming on borderlands and i will murder you...  \n",
       "4  im getting on borderlands 2 and i will murder ...  "
      ]
     },
     "execution_count": 3,
     "metadata": {},
     "output_type": "execute_result"
    }
   ],
   "source": [
    "\n",
    "import re\n",
    "\n",
    "def clean_text(txt):\n",
    "    txt = str(txt).lower()\n",
    "    txt = re.sub(r\"http\\S+|www\\.\\S+\", \" \", txt)\n",
    "    txt = re.sub(r\"@\\w+|#\\w+\", \" \", txt)\n",
    "    txt = re.sub(r\"[^a-z0-9\\s]\", \" \", txt)\n",
    "    txt = re.sub(r\"\\s+\", \" \", txt).strip()\n",
    "    return txt\n",
    "\n",
    "# Filter only Positive, Negative, Neutral\n",
    "df = df1[df1['sentiment'].isin([\"Positive\",\"Negative\",\"Neutral\"])].copy()\n",
    "df['clean_text'] = df['text'].apply(clean_text)\n",
    "df = df.drop_duplicates(subset=\"clean_text\")\n",
    "print(\"Filtered shape:\", df.shape)\n",
    "print(df['sentiment'].value_counts())\n",
    "df.head()\n"
   ]
  },
  {
   "cell_type": "markdown",
   "id": "42cf56fd",
   "metadata": {},
   "source": [
    "## Step 3: Exploratory Data Analysis"
   ]
  },
  {
   "cell_type": "code",
   "execution_count": 5,
   "id": "471b4498",
   "metadata": {},
   "outputs": [
    {
     "data": {
      "image/png": "[encoded data removed]",
      "text/plain": [
       "<Figure size 640x480 with 1 Axes>"
      ]
     },
     "metadata": {},
     "output_type": "display_data"
    }
   ],
   "source": [
    "\n",
    "import matplotlib.pyplot as plt\n",
    "\n",
    "df['sentiment'].value_counts().plot(kind='bar', title=\"Class Distribution\")\n",
    "plt.show()\n"
   ]
  },
  {
   "cell_type": "markdown",
   "id": "58e86e4c",
   "metadata": {},
   "source": [
    "## Step 4: Vectorization"
   ]
  },
  {
   "cell_type": "code",
   "execution_count": 7,
   "id": "ad940463",
   "metadata": {},
   "outputs": [
    {
     "name": "stdout",
     "output_type": "stream",
     "text": [
      "Train shape: (44072, 10492)\n",
      "Test shape: (11019, 10492)\n"
     ]
    }
   ],
   "source": [
    "\n",
    "from sklearn.model_selection import train_test_split\n",
    "from sklearn.feature_extraction.text import TfidfVectorizer\n",
    "\n",
    "X = df['clean_text']\n",
    "y = df['sentiment']\n",
    "\n",
    "X_train, X_test, y_train, y_test = train_test_split(\n",
    "    X, y, test_size=0.2, stratify=y, random_state=42)\n",
    "\n",
    "vectorizer = TfidfVectorizer(stop_words='english', min_df=5)\n",
    "X_train_vec = vectorizer.fit_transform(X_train)\n",
    "X_test_vec = vectorizer.transform(X_test)\n",
    "\n",
    "print(\"Train shape:\", X_train_vec.shape)\n",
    "print(\"Test shape:\", X_test_vec.shape)\n"
   ]
  },
  {
   "cell_type": "markdown",
   "id": "74e10dc5",
   "metadata": {},
   "source": [
    "## Step 5: Train Models"
   ]
  },
  {
   "cell_type": "code",
   "execution_count": 9,
   "id": "07980df0",
   "metadata": {},
   "outputs": [
    {
     "name": "stdout",
     "output_type": "stream",
     "text": [
      "Naive Bayes:\n",
      "              precision    recall  f1-score   support\n",
      "\n",
      "    Negative       0.75      0.86      0.80      4113\n",
      "     Neutral       0.82      0.60      0.69      3266\n",
      "    Positive       0.74      0.79      0.77      3640\n",
      "\n",
      "    accuracy                           0.76     11019\n",
      "   macro avg       0.77      0.75      0.75     11019\n",
      "weighted avg       0.76      0.76      0.76     11019\n",
      "\n",
      "Logistic Regression:\n",
      "              precision    recall  f1-score   support\n",
      "\n",
      "    Negative       0.81      0.85      0.83      4113\n",
      "     Neutral       0.81      0.74      0.77      3266\n",
      "    Positive       0.79      0.80      0.80      3640\n",
      "\n",
      "    accuracy                           0.80     11019\n",
      "   macro avg       0.80      0.80      0.80     11019\n",
      "weighted avg       0.80      0.80      0.80     11019\n",
      "\n"
     ]
    },
    {
     "name": "stderr",
     "output_type": "stream",
     "text": [
      "C:\\Users\\Pramit\\anaconda3\\Lib\\site-packages\\sklearn\\svm\\_classes.py:31: FutureWarning: The default value of `dual` will change from `True` to `'auto'` in 1.5. Set the value of `dual` explicitly to suppress the warning.\n",
      "  warnings.warn(\n"
     ]
    },
    {
     "name": "stdout",
     "output_type": "stream",
     "text": [
      "Linear SVC:\n",
      "              precision    recall  f1-score   support\n",
      "\n",
      "    Negative       0.84      0.88      0.86      4113\n",
      "     Neutral       0.86      0.80      0.83      3266\n",
      "    Positive       0.84      0.84      0.84      3640\n",
      "\n",
      "    accuracy                           0.84     11019\n",
      "   macro avg       0.84      0.84      0.84     11019\n",
      "weighted avg       0.84      0.84      0.84     11019\n",
      "\n"
     ]
    },
    {
     "data": {
      "image/png": "[encoded data removed]",
      "text/plain": [
       "<Figure size 640x480 with 2 Axes>"
      ]
     },
     "metadata": {},
     "output_type": "display_data"
    }
   ],
   "source": [
    "\n",
    "from sklearn.naive_bayes import MultinomialNB\n",
    "from sklearn.linear_model import LogisticRegression\n",
    "from sklearn.svm import LinearSVC\n",
    "from sklearn.metrics import classification_report, confusion_matrix, ConfusionMatrixDisplay\n",
    "\n",
    "# Train Naive Bayes\n",
    "nb = MultinomialNB()\n",
    "nb.fit(X_train_vec, y_train)\n",
    "y_pred_nb = nb.predict(X_test_vec)\n",
    "print(\"Naive Bayes:\")\n",
    "print(classification_report(y_test, y_pred_nb))\n",
    "\n",
    "# Train Logistic Regression\n",
    "logreg = LogisticRegression(max_iter=200)\n",
    "logreg.fit(X_train_vec, y_train)\n",
    "y_pred_log = logreg.predict(X_test_vec)\n",
    "print(\"Logistic Regression:\")\n",
    "print(classification_report(y_test, y_pred_log))\n",
    "\n",
    "# Train Linear SVC\n",
    "svc = LinearSVC()\n",
    "svc.fit(X_train_vec, y_train)\n",
    "y_pred_svc = svc.predict(X_test_vec)\n",
    "print(\"Linear SVC:\")\n",
    "print(classification_report(y_test, y_pred_svc))\n",
    "\n",
    "# Confusion Matrix for best model (SVC)\n",
    "cm = confusion_matrix(y_test, y_pred_svc, labels=svc.classes_)\n",
    "disp = ConfusionMatrixDisplay(confusion_matrix=cm, display_labels=svc.classes_)\n",
    "disp.plot(cmap=plt.cm.Blues)\n",
    "plt.show()\n"
   ]
  },
  {
   "cell_type": "markdown",
   "id": "ac2bd39d",
   "metadata": {},
   "source": [
    "## Step 6: Save Model & Vectorizer"
   ]
  },
  {
   "cell_type": "code",
   "execution_count": 11,
   "id": "1e0b70f7",
   "metadata": {},
   "outputs": [
    {
     "name": "stdout",
     "output_type": "stream",
     "text": [
      "Saved tfidf_vectorizer.pkl and model_linearsvc.pkl\n"
     ]
    }
   ],
   "source": [
    "\n",
    "import pickle\n",
    "\n",
    "pickle.dump(vectorizer, open(\"tfidf_vectorizer.pkl\",\"wb\"))\n",
    "pickle.dump(svc, open(\"model_linearsvc.pkl\",\"wb\"))\n",
    "print(\"Saved tfidf_vectorizer.pkl and model_linearsvc.pkl\")\n"
   ]
  },
  {
   "cell_type": "markdown",
   "id": "251e8c69",
   "metadata": {},
   "source": [
    "## Step 7: Prediction Demo"
   ]
  },
  {
   "cell_type": "code",
   "execution_count": 13,
   "id": "fb4334f9",
   "metadata": {},
   "outputs": [
    {
     "name": "stdout",
     "output_type": "stream",
     "text": [
      "['Positive']\n",
      "['Negative' 'Positive']\n"
     ]
    }
   ],
   "source": [
    "\n",
    "def predict_sentiment(texts):\n",
    "    if isinstance(texts, str):\n",
    "        texts = [texts]\n",
    "    X = vectorizer.transform([clean_text(t) for t in texts])\n",
    "    return svc.predict(X)\n",
    "\n",
    "print(predict_sentiment(\"I love this product!\"))\n",
    "print(predict_sentiment([\"This is terrible...\", \"Absolutely wonderful!\"]))\n"
   ]
  },
  {
   "cell_type": "markdown",
   "id": "aec651c6",
   "metadata": {},
   "source": [
    "## Step 8: Summary"
   ]
  },
  {
   "cell_type": "markdown",
   "id": "5a525b12",
   "metadata": {},
   "source": [
    "\n",
    "- We built a sentiment analysis pipeline with TF-IDF + Linear SVM.  \n",
    "- Accuracy ~0.70 on sample test set (can be improved with more data/features).  \n",
    "- Saved model & vectorizer for reuse.  \n",
    "- Can now integrate into Flask API, batch scoring, or real-time dashboards.  \n"
   ]
  },
  {
   "cell_type": "code",
   "execution_count": 15,
   "id": "a397ed86-4eb5-4352-ab4d-0ceaf3b686d9",
   "metadata": {},
   "outputs": [
    {
     "name": "stdout",
     "output_type": "stream",
     "text": [
      "✅ Cleaned dataset saved to cleaned_twitter_data.csv\n",
      "Shape: (55090, 3)\n"
     ]
    },
    {
     "data": {
      "text/html": [
       "<div>\n",
       "<style scoped>\n",
       "    .dataframe tbody tr th:only-of-type {\n",
       "        vertical-align: middle;\n",
       "    }\n",
       "\n",
       "    .dataframe tbody tr th {\n",
       "        vertical-align: top;\n",
       "    }\n",
       "\n",
       "    .dataframe thead th {\n",
       "        text-align: right;\n",
       "    }\n",
       "</style>\n",
       "<table border=\"1\" class=\"dataframe\">\n",
       "  <thead>\n",
       "    <tr style=\"text-align: right;\">\n",
       "      <th></th>\n",
       "      <th>text</th>\n",
       "      <th>sentiment</th>\n",
       "      <th>clean_text</th>\n",
       "    </tr>\n",
       "  </thead>\n",
       "  <tbody>\n",
       "    <tr>\n",
       "      <th>0</th>\n",
       "      <td>im getting on borderlands and i will murder yo...</td>\n",
       "      <td>Positive</td>\n",
       "      <td>im getting on borderlands and i will murder yo...</td>\n",
       "    </tr>\n",
       "    <tr>\n",
       "      <th>1</th>\n",
       "      <td>I am coming to the borders and I will kill you...</td>\n",
       "      <td>Positive</td>\n",
       "      <td>i am coming to the borders and i will kill you...</td>\n",
       "    </tr>\n",
       "    <tr>\n",
       "      <th>2</th>\n",
       "      <td>im getting on borderlands and i will kill you ...</td>\n",
       "      <td>Positive</td>\n",
       "      <td>im getting on borderlands and i will kill you all</td>\n",
       "    </tr>\n",
       "    <tr>\n",
       "      <th>3</th>\n",
       "      <td>im coming on borderlands and i will murder you...</td>\n",
       "      <td>Positive</td>\n",
       "      <td>im coming on borderlands and i will murder you...</td>\n",
       "    </tr>\n",
       "    <tr>\n",
       "      <th>4</th>\n",
       "      <td>im getting on borderlands 2 and i will murder ...</td>\n",
       "      <td>Positive</td>\n",
       "      <td>im getting on borderlands and i will murder yo...</td>\n",
       "    </tr>\n",
       "  </tbody>\n",
       "</table>\n",
       "</div>"
      ],
      "text/plain": [
       "                                                text sentiment  \\\n",
       "0  im getting on borderlands and i will murder yo...  Positive   \n",
       "1  I am coming to the borders and I will kill you...  Positive   \n",
       "2  im getting on borderlands and i will kill you ...  Positive   \n",
       "3  im coming on borderlands and i will murder you...  Positive   \n",
       "4  im getting on borderlands 2 and i will murder ...  Positive   \n",
       "\n",
       "                                          clean_text  \n",
       "0  im getting on borderlands and i will murder yo...  \n",
       "1  i am coming to the borders and i will kill you...  \n",
       "2  im getting on borderlands and i will kill you all  \n",
       "3  im coming on borderlands and i will murder you...  \n",
       "4  im getting on borderlands and i will murder yo...  "
      ]
     },
     "execution_count": 15,
     "metadata": {},
     "output_type": "execute_result"
    }
   ],
   "source": [
    "# ============================\n",
    "# Save Cleaned Dataset to CSV\n",
    "# ============================\n",
    "\n",
    "import re\n",
    "import pandas as pd\n",
    "\n",
    "# Keep only necessary columns\n",
    "df_clean = df[[\"text\", \"sentiment\"]].dropna().drop_duplicates()\n",
    "\n",
    "# Filter only Positive, Negative, Neutral sentiments\n",
    "df_clean = df_clean[df_clean[\"sentiment\"].isin([\"Positive\", \"Negative\", \"Neutral\"])]\n",
    "\n",
    "# Define cleaning function\n",
    "def clean_text(text):\n",
    "    text = str(text).lower()                                  # lowercase\n",
    "    text = re.sub(r\"http\\S+|www\\S+|https\\S+\", \"\", text)       # remove urls\n",
    "    text = re.sub(r\"@\\w+|#\\w+\", \"\", text)                     # remove mentions and hashtags\n",
    "    text = re.sub(r\"[^a-z\\s]\", \"\", text)                      # remove special characters/numbers\n",
    "    text = re.sub(r\"\\s+\", \" \", text).strip()                  # remove extra spaces\n",
    "    return text\n",
    "\n",
    "# Apply cleaning\n",
    "df_clean[\"clean_text\"] = df_clean[\"text\"].apply(clean_text)\n",
    "\n",
    "# Save to CSV\n",
    "output_path = \"cleaned_twitter_data.csv\"\n",
    "df_clean.to_csv(output_path, index=False)\n",
    "\n",
    "print(f\"✅ Cleaned dataset saved to {output_path}\")\n",
    "print(\"Shape:\", df_clean.shape)\n",
    "df_clean.head()"
   ]
  },
  {
   "cell_type": "code",
   "execution_count": null,
   "id": "bb4f49b8-99a9-409b-a1f9-bd439881e804",
   "metadata": {},
   "outputs": [],
   "source": []
  }
 ],
 "metadata": {
  "kernelspec": {
   "display_name": "Python 3 (ipykernel)",
   "language": "python",
   "name": "python3"
  },
  "language_info": {
   "codemirror_mode": {
    "name": "ipython",
    "version": 3
   },
   "file_extension": ".py",
   "mimetype": "text/x-python",
   "name": "python",
   "nbconvert_exporter": "python",
   "pygments_lexer": "ipython3",
   "version": "3.12.4"
  }
 },
 "nbformat": 4,
 "nbformat_minor": 5
}
